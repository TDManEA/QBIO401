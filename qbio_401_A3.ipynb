{
 "cells": [
  {
   "cell_type": "markdown",
   "id": "d2697b9a-4035-4eef-9186-ae5596573f87",
   "metadata": {},
   "source": [
    "A3\n",
    "\n",
    "Part 1. Protein Blast\n",
    "\n",
    "For each gene, write down the following information in a table:\n",
    "[Gene name (human gene 1-7, chicken gene 1-7),Chromosome number of gene, Chromosome number of best match in other species]\n",
    "\n",
    "ex: n, Chromosome A, Chromosome B\n",
    "\n",
    "#Chicken-Human\n",
    "1. Chromosome 5, Chromosome Z\n",
    "2. Chromosome 5, Chromosome Z\n",
    "3. Chromosome 9, Chromosome Z\n",
    "4. Chromosome 9, Chromosome Z\n",
    "5. Chromosome X, Chromosome 1\n",
    "6. Chromosome X, Chromosome 1\n",
    "7. Chromosome X, Chromosome 4\n",
    "\n",
    "#Human-Chicken\n",
    "1. Chromosome 1, Chromosome 22\n",
    "2. Chromosome 1, Chromosome X\n",
    "3. Chromosome 1, Chromosome X\n",
    "4. Chromosome 4, Chromosome X\n",
    "5. Chromosome Z, Chromosome 5\n",
    "6. Chromosome Z, Chromosome 9\n",
    "7. Chromosome Z, Chromosome 5\n",
    "\n",
    "Based on this information, do you think the human chromosome X and the chicken chromosome Z are homologous?\n",
    "This information suggests that the two chromosomes are not homologous because they aren't linked entirely—only one overlap I believe."
   ]
  },
  {
   "cell_type": "markdown",
   "id": "9619eda2-a075-4e1a-8cd2-607d47d18163",
   "metadata": {},
   "source": [
    "Part 2. Computer Programming"
   ]
  },
  {
   "cell_type": "code",
   "execution_count": 4,
   "id": "212d2f36-3495-4627-b869-fba4d7d955d0",
   "metadata": {},
   "outputs": [
    {
     "name": "stdout",
     "output_type": "stream",
     "text": [
      "PTPN11: AAA = 29, AAG = 13\n",
      "csw: AAA = 12, AAG = 17\n"
     ]
    }
   ],
   "source": [
    "from collections import defaultdict\n",
    "\n",
    "# Function to read sequence from file\n",
    "def read_sequence_from_file(file_path):\n",
    "    with open(file_path, 'r') as file:\n",
    "        # Read the entire sequence (assuming it's in a single line or concatenated)\n",
    "        sequence = file.read().strip()\n",
    "    return sequence\n",
    "\n",
    "# Function to count occurrences of \"AAA\" and \"AAG\" codons\n",
    "# Parameter #1 - Input sequence from which codons will be read\n",
    "def count_aaa_aag_codons(sequence):\n",
    "    # Split the sequence into codons (groups of three nucleotides)\n",
    "    codons = [sequence[i:i+3] for i in range(0, len(sequence), 3)]\n",
    "    \n",
    "    # Initialize counters for AAA and AAG codons + Count occurrences of AAA and AAG codons\n",
    "    aaa_count = 0\n",
    "    aag_count = 0\n",
    "    for codon in codons:\n",
    "        if codon == \"AAA\":\n",
    "            aaa_count += 1\n",
    "        elif codon == \"AAG\":\n",
    "            aag_count += 1\n",
    "    \n",
    "    return aaa_count, aag_count\n",
    "\n",
    "def main():\n",
    "    # File paths based on your directory\n",
    "    ptpn11_file = '/Users/tomasmanea/Desktop/Fall2024/QBIO401/A3/codingPTPN11.txt'\n",
    "    csw_file = '/Users/tomasmanea/Desktop/Fall2024/QBIO401/A3/codingcsw.txt'\n",
    "\n",
    "    # Read the sequences\n",
    "    ptpn11_sequence = read_sequence_from_file(ptpn11_file)\n",
    "    csw_sequence = read_sequence_from_file(csw_file)\n",
    "\n",
    "    # Count the codons in each sequence\n",
    "    ptpn11_aaa_count, ptpn11_aag_count = count_aaa_aag_codons(ptpn11_sequence)\n",
    "    csw_aaa_count, csw_aag_count = count_aaa_aag_codons(csw_sequence)\n",
    "\n",
    "    # Display the results for \"AAA\" and \"AAG\"\n",
    "    print(f\"PTPN11: AAA = {ptpn11_aaa_count}, AAG = {ptpn11_aag_count}\")\n",
    "    print(f\"csw: AAA = {csw_aaa_count}, AAG = {csw_aag_count}\")\n",
    "\n",
    "main()\n"
   ]
  },
  {
   "cell_type": "markdown",
   "id": "248c474c-09bf-4b97-b4ae-61b1b8ac7595",
   "metadata": {},
   "source": [
    "(q) Does the codon usage for “AAA” and “AAG” appear different for the two files? (units = frequency/1k)\n",
    "\n",
    "(a) Yes, the codon usage appears different, since \n",
    "    Human (PTPN11) has AAA = 29, AAG = 13, whereas\n",
    "    Drosphilia Melangaster (csw) has AAA = 12, AAG = 17.\n",
    "\n",
    "(q) Does the codon usage for “AAA” and “AAG” in the two files seem typical of the codon usage in the full human and Drosophila genomes?\n",
    "\n",
    "(a) In both cases, these are not the typical codon usage in both human and Drosophila genomes. This is corroborated by the fact that \n",
    "Human (PTPN11) codon frequency is typically AAA = 24 and AAG = 32 \n",
    "&\n",
    "Drosphilia Melangaster (csw) is typically AAA = 16 and AAG = 40.\n"
   ]
  }
 ],
 "metadata": {
  "kernelspec": {
   "display_name": "Python 3 (ipykernel)",
   "language": "python",
   "name": "python3"
  },
  "language_info": {
   "codemirror_mode": {
    "name": "ipython",
    "version": 3
   },
   "file_extension": ".py",
   "mimetype": "text/x-python",
   "name": "python",
   "nbconvert_exporter": "python",
   "pygments_lexer": "ipython3",
   "version": "3.9.19"
  }
 },
 "nbformat": 4,
 "nbformat_minor": 5
}
