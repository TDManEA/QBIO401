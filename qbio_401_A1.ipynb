{
 "cells": [
  {
   "cell_type": "markdown",
   "id": "4cb9e497-3b6c-4508-8dd8-948a95c30cc4",
   "metadata": {},
   "source": [
    "Assignment #1\n",
    "1. Write a Python function that takes as input a sequence string and returns a list with 4 entries that are the number of A, C, G, and T in the sequence.\n",
    "2. Write another Python function that takes two inputs: a sequence string and a string of two letters (e.g., “CG” or “CT”). This function returns the number of times the two letters occur consecutively in the sequence.\n",
    "3. Write a third Python function that takes as input a sequence string and returns a list with 16 entries that are the outputs of function #2 for all 16 possible two letter strings."
   ]
  },
  {
   "cell_type": "code",
   "execution_count": 6,
   "id": "dba52f9e-d180-4e2e-be8f-d1ddfe79d433",
   "metadata": {},
   "outputs": [
    {
     "name": "stdout",
     "output_type": "stream",
     "text": [
      "/Users/tomasmanea/Desktop/Fall 2024/QBIO401/A1\n"
     ]
    }
   ],
   "source": [
    "import os\n",
    "\n",
    "# Change the working directory to the desired path\n",
    "os.chdir('/Users/tomasmanea/Desktop/Fall 2024/QBIO401/A1')\n",
    "\n",
    "# Verify the current working directory\n",
    "print(os.getcwd())\n"
   ]
  },
  {
   "cell_type": "code",
   "execution_count": 1,
   "id": "86664342-69c9-4539-a216-6779e0c7628f",
   "metadata": {},
   "outputs": [],
   "source": [
    "def compbase(seq): \n",
    "    \"'Returns A, C, G, T content, respectively'\"\n",
    "    a = 0\n",
    "    t = 0\n",
    "    c = 0\n",
    "    g = 0 \n",
    "    for base in seq: # loop through each base in \"seq\"\n",
    "        if base == \"A\":\n",
    "            a += 1\n",
    "        elif base == \"C\":\n",
    "            c += 1\n",
    "        elif base == \"G\":\n",
    "            g += 1\n",
    "        elif base == \"T\":\n",
    "            t += 1\n",
    "        else:\n",
    "            print(\"Check user input\") # check for unexpected characters\n",
    "    return [a, c, g, t] # returning counts as a list\n"
   ]
  },
  {
   "cell_type": "code",
   "execution_count": 2,
   "id": "7a252100-2697-4d17-a454-2888b3b9f42a",
   "metadata": {},
   "outputs": [],
   "source": [
    "def countbase(seq, s2):\n",
    "    \"# of times the two letters occur consecutively in the sequence\"\n",
    "    counts = 0 \n",
    "    for i in range(len(seq) - 1): # loops through sequence, including last digit\n",
    "        if seq[i:i+2] == s2: # compare sequence to desired string of letters\n",
    "            counts += 1\n",
    "    return counts # returns the number of bases that consecutively match \n",
    "    "
   ]
  },
  {
   "cell_type": "code",
   "execution_count": 3,
   "id": "b925a7cc-247a-42f1-9d1c-7463f9fcbcd6",
   "metadata": {},
   "outputs": [],
   "source": [
    "def seqtolist(seq):\n",
    "    bases = ['A', 'C', 'G', 'T'] # Alphabetized bases of interest\n",
    "    result = [] # where base evaluation will be stored\n",
    "    for base1 in bases: \n",
    "        for base2 in bases: # for loop evaluates all possible pairs of bases (e.g. base1 +  base2)\n",
    "            result.append(countbase(seq, base1 + base2)) # Concatenate to form a 2-char str / countbase\n",
    "    return result # return all combos"
   ]
  },
  {
   "cell_type": "code",
   "execution_count": 15,
   "id": "eb67c418-090e-4d78-ab06-5eb6d975b83f",
   "metadata": {},
   "outputs": [
    {
     "name": "stdout",
     "output_type": "stream",
     "text": [
      "Human (PTPN11) Sequence Nucleotide Counts:\n",
      "\n",
      "[1773, 1139, 1410, 1751]\n",
      "\n",
      "Drosophila (csw) Sequence Nucleotide Counts:\n",
      "\n",
      "[2395, 1876, 1675, 1718]\n",
      "\n",
      "Human (PTPN11) Sequence Di-Nucleotide Counts:\n",
      "\n",
      "[595, 280, 459, 438, 394, 275, 99, 371, 443, 276, 355, 336, 340, 308, 497, 606]\n",
      "\n",
      "Drosophila (csw) Sequence Di-Nucleotide Counts:\n",
      "\n",
      "[870, 521, 481, 523, 621, 452, 455, 348, 499, 501, 323, 352, 404, 402, 416, 495]\n"
     ]
    }
   ],
   "source": [
    "# Import Functions\n",
    "from lecture2functions import loadFASTA  \n",
    "\n",
    "# Define the file paths\n",
    "human_fasta_path = '/Users/tomasmanea/Desktop/Fall 2024/QBIO401/A1/human_sequence.fasta'\n",
    "drosophila_fasta_path = '/Users/tomasmanea/Desktop/Fall 2024/QBIO401/A1/drosphilia_sequence.fasta'\n",
    "\n",
    "# Loading FASTA seq(s)\n",
    "human_sequence = loadFASTA(human_fasta_path)\n",
    "drosphila_sequence = loadFASTA(drosophila_fasta_path)\n",
    "\n",
    "# Functions on Sequences\n",
    "# Function 1 output\n",
    "comp_human = compbase(human_sequence)\n",
    "comp_dros = compbase(drosphila_sequence)\n",
    "\n",
    "# Function 3 output\n",
    "seq_human =seqtolist(human_sequence)\n",
    "seq_dros = seqtolist(drosphila_sequence)\n",
    "\n",
    "# Print for...\n",
    "# Function 1 Output - Counting bases for each seq \n",
    "print(\"Human (PTPN11) Sequence Nucleotide Counts:\\n\")\n",
    "print(comp_human)\n",
    "\n",
    "print(\"\\nDrosophila (csw) Sequence Nucleotide Counts:\\n\")\n",
    "print(comp_dros)\n",
    "\n",
    "# Function 3 Output - Counting consecutive Di-Nucleotide Counts\n",
    "print(\"\\nHuman (PTPN11) Sequence Di-Nucleotide Counts:\\n\")\n",
    "print(seq_human)\n",
    "\n",
    "print(\"\\nDrosophila (csw) Sequence Di-Nucleotide Counts:\\n\")\n",
    "print(seq_dros)\n"
   ]
  },
  {
   "cell_type": "markdown",
   "id": "d0bb9d67-abc0-4f4d-b5c2-4243c166ccbc",
   "metadata": {},
   "source": [
    "Since humans have much higher rates of methylation than Drosophila, we would expect to see far fewer CpGs in humans (we will discuss this topic soon in lecture). Is this what we see?"
   ]
  },
  {
   "cell_type": "markdown",
   "id": "aefba123-e207-4f4a-a54f-4d4d98d8d6e9",
   "metadata": {},
   "source": [
    "The Human and Drosphila CpG counts (99, 435) corroborate the hypothesis that fewer CpGs in humans are present in humans than in their Drosphila counterparts."
   ]
  }
 ],
 "metadata": {
  "kernelspec": {
   "display_name": "Python 3 (ipykernel)",
   "language": "python",
   "name": "python3"
  },
  "language_info": {
   "codemirror_mode": {
    "name": "ipython",
    "version": 3
   },
   "file_extension": ".py",
   "mimetype": "text/x-python",
   "name": "python",
   "nbconvert_exporter": "python",
   "pygments_lexer": "ipython3",
   "version": "3.9.19"
  }
 },
 "nbformat": 4,
 "nbformat_minor": 5
}
