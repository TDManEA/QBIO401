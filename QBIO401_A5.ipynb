{
 "cells": [
  {
   "cell_type": "code",
   "execution_count": 5,
   "id": "e490064b-64b0-4c22-bd96-ac062bc939d0",
   "metadata": {},
   "outputs": [
    {
     "name": "stdout",
     "output_type": "stream",
     "text": [
      "Forward strand ORFs: [[266, 13481], [13768, 21553], [21536, 25382], [26523, 27189], [27394, 27757], [27894, 28257], [28274, 29531]]\n",
      "Reverse strand ORFs: [[23415, 23715]]\n"
     ]
    }
   ],
   "source": [
    "# Assignment 5 - Hidden Markov Models\n",
    "\n",
    "# Import functions from lecture2functions.py and reversecomplement.py\n",
    "from lecture2functions import loadFASTA\n",
    "from reversecomplement import revcomp\n",
    "\n",
    "# Function to find all ORFs longer than the threshold\n",
    "# Parameter 1) the sequence string: DNA sequence as string\n",
    "# Parameter 2) & the threshold value: the min ORF length (in codons)\n",
    "# Output: a list of ORFS, where first # is the first nucleotide position of the start codon, and the second is the first base of the stop codon \n",
    "def find_ORFs(seq, threshold):\n",
    "    start_codon = \"ATG\"\n",
    "    stop_codons = {\"TAG\", \"TAA\", \"TGA\"}\n",
    "    orfs = []\n",
    "    \n",
    "    # Iterate through the seq to find start codons\n",
    "    for i in range(len(seq) - 2):\n",
    "        codon = seq[i:i+3]\n",
    "        \n",
    "        # Check if it's a start codon\n",
    "        if codon == start_codon:\n",
    "            for j in range(i + 3, len(seq) - 2, 3):\n",
    "                stop_codon = seq[j:j+3]\n",
    "                \n",
    "                # Check if it's a stop codon\n",
    "                if stop_codon in stop_codons:\n",
    "                    orf_length = (j - i) // 3 + 1\n",
    "                    \n",
    "                    # Check if ORF length is greater than the threshold\n",
    "                    if orf_length >= threshold:\n",
    "                        orfs.append([i + 1, j + 1])  # +1 to make positions 1-based\n",
    "                    break\n",
    "\n",
    "    return orfs\n",
    "\n",
    "# Function to find the longest ORF for each stop codon\n",
    "# Parameter 1) the sequence string \n",
    "# Parameter 2) & the threshold value \n",
    "# Output: a list of longest ORFS\n",
    "def find_longest_ORFs(seq, threshold):\n",
    "    orfs = find_ORFs(seq, threshold)\n",
    "    longest_orfs = {}\n",
    "    \n",
    "    for orf in orfs:\n",
    "        start, stop = orf\n",
    "        codon = seq[stop-3:stop]\n",
    "        \n",
    "        # Check if this stop codon has a longer ORF\n",
    "        if codon not in longest_orfs or (stop - start) > (longest_orfs[codon][1] - longest_orfs[codon][0]):\n",
    "            longest_orfs[codon] = orf\n",
    "            \n",
    "    return list(longest_orfs.values())\n",
    "\n",
    "# Apply to both forward and reverse strands\n",
    "# Parameter 1) fasta_file: the path to the FASTA file containing the sequence\n",
    "# Parameter 2) threshold: the minimum ORF length (in codons) to be considered\n",
    "# Output: a tuple containing two lists \n",
    "def find_ORFs_in_both_strands(fasta_file, threshold):\n",
    "    sequence = loadFASTA(fasta_file)  # Load sequence from FASTA file\n",
    "    forward_orfs = find_longest_ORFs(sequence, threshold)\n",
    "    reverse_sequence = revcomp(sequence)  # Reverse complement for the reverse strand\n",
    "    reverse_orfs = find_longest_ORFs(reverse_sequence, threshold)\n",
    "    \n",
    "    return forward_orfs, reverse_orfs\n",
    "\n",
    "# Conducting Analysis on 'Coronavirus.fasta\"\n",
    "threshold_value = 100\n",
    "fasta_file = 'coronavirus.fasta'\n",
    "forward_orfs, reverse_orfs = find_ORFs_in_both_strands(fasta_file, threshold_value)\n",
    "\n",
    "# Print ORFs in forward and reverse strands for 'Coronavirus'\n",
    "print(\"Forward strand ORFs:\", forward_orfs)\n",
    "print(\"Reverse strand ORFs:\", reverse_orfs)\n"
   ]
  }
 ],
 "metadata": {
  "kernelspec": {
   "display_name": "Python 3 (ipykernel)",
   "language": "python",
   "name": "python3"
  },
  "language_info": {
   "codemirror_mode": {
    "name": "ipython",
    "version": 3
   },
   "file_extension": ".py",
   "mimetype": "text/x-python",
   "name": "python",
   "nbconvert_exporter": "python",
   "pygments_lexer": "ipython3",
   "version": "3.9.19"
  }
 },
 "nbformat": 4,
 "nbformat_minor": 5
}
