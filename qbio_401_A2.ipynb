{
 "cells": [
  {
   "cell_type": "markdown",
   "id": "388d1d12-4a33-4456-a023-4c25634d5fdf",
   "metadata": {},
   "source": [
    "Assignment #2 On Brightspace, I have posted two files:\n",
    "XI1_A TCACG_L001_R1_001.fastq XI1_A TCACG_L001_R2_001.fastq\n",
    "These are abbreviated next generation sequencing files from a paired-end run. The file with “R1” in the title is read #1, and the file with “R2” in the title is read #2. Each read is 250 base pairs long.\n",
    "\n",
    "1. Write a Python function that for each of the positions in the read (1 to 250) will compute the fraction of reads in the file with quality scores greater than or equal to 30 at that position. Plot the output for each file (read position on the x-axis, fraction of reads on the y-axis). Put these two plots (one for read #1 and the second for read #2) on the same figure (use different colors for read #1 and read #2) so that you can easily compare read #1 and read #2.\n",
    "\n",
    "Below is a short example. In this example, each read has\n",
    "only 5 bases, and there are only 4 reads. The quality score\n",
    "“I” is >= 30, and the quality score ”!” is less than 30.\n",
    "@HISEQ2500:305:HHVYVBCXY:1:1101:1330:1930 1:N:0:ATCACG\n",
    "ACCGT\n",
    "+\n",
    "III!!\n",
    "@HISEQ2500:305:HHVYVBCXY:1:1101:1330:1930 1:N:0:ATCACG\n",
    "TGAAC\n",
    "+\n",
    "III!!\n",
    "@HISEQ2500:305:HHVYVBCXY:1:1101:1330:1930 1:N:0:ATCACG\n",
    "ACACG\n",
    "+\n",
    "IIII!\n",
    "@HISEQ2500:305:HHVYVBCXY:1:1101:1330:1930 1:N:0:ATCACG\n",
    "ACCGT\n",
    "+\n",
    "I!!!!\n",
    "\n"
   ]
  },
  {
   "cell_type": "markdown",
   "id": "44b7c750",
   "metadata": {},
   "source": [
    "1. Write a Python function that for each of the positions in the read (1 to 250) will compute the fraction of reads in the file with quality scores greater than or equal to 30 at that position. Plot the output for each file (read position on the x-axis, fraction of reads on the y-axis). Put these two plots (one for read #1 and the second for read #2) on the same figure (use different colors for read #1 and read #2) so that you can easily compare read #1 and read #2."
   ]
  },
  {
   "cell_type": "code",
   "execution_count": null,
   "id": "227b310a",
   "metadata": {},
   "outputs": [],
   "source": [
    "import matplotlib.pyplot as plt\n",
    "\n",
    "# Helper function to convert ASCII quality scores to Phred scores\n",
    "def phred_score(quality_char):\n",
    "    return ord(quality_char) - 33\n",
    "\n",
    "# Function 1: Fraction of reads with quality score >= 30 at each position\n",
    "def fraction_quality_above_threshold(filename, read_length=250, quality_threshold=30):\n",
    "    position_counts = [0] * read_length\n",
    "    total_reads = 0\n",
    "\n",
    "    with open(filename, 'r') as f:\n",
    "        for line_num, line in enumerate(f):\n",
    "            if line_num % 4 == 3:  # Quality score line\n",
    "                total_reads += 1\n",
    "                for i in range(read_length):\n",
    "                    if phred_score(line[i]) >= quality_threshold:\n",
    "                        position_counts[i] += 1\n",
    "\n",
    "    # Compute the fraction of reads with quality >= threshold at each position\n",
    "    fractions = [count / total_reads for count in position_counts]\n",
    "    return fractions"
   ]
  },
  {
   "cell_type": "markdown",
   "id": "0935f968",
   "metadata": {},
   "source": [
    "2. Write another function that for k from 0 to 250 will count the number of reads in the file with exactly k bases with quality scores greater than or equal to 30. Plot the output for each file (k on the x-axis, number of reads on the y-axis). Again put the two plots (one for read #1 and the second for read #2) on the same figure (use different colors for read #1 and read #2) so that you can easily compare read #1 and read #2."
   ]
  },
  {
   "cell_type": "code",
   "execution_count": null,
   "id": "79aebc8e",
   "metadata": {},
   "outputs": [],
   "source": [
    "# Function 2: Count of reads with exactly k bases having quality score >= 30\n",
    "def count_reads_with_k_bases_above_threshold(filename, read_length=250, quality_threshold=30):\n",
    "    base_counts = [0] * (read_length + 1)\n",
    "\n",
    "    with open(filename, 'r') as f:\n",
    "        for line_num, line in enumerate(f):\n",
    "            if line_num % 4 == 3:  # Quality score line\n",
    "                high_quality_bases = sum(1 for i in range(read_length) if phred_score(line[i]) >= quality_threshold)\n",
    "                base_counts[high_quality_bases] += 1\n",
    "\n",
    "    return base_counts"
   ]
  },
  {
   "cell_type": "code",
   "execution_count": null,
   "id": "61237394-66b9-4836-b688-b2876a5eea5f",
   "metadata": {},
   "outputs": [],
   "source": [
    "# Load data from both R1 and R2 files\n",
    "r1_filename = \"XI1_A_TCACG_L001_R1_001.fastq\"\n",
    "r2_filename = \"XI1_A_TCACG_L001_R2_001.fastq\"\n",
    "\n",
    "# Compute fraction of high-quality scores for each read position\n",
    "r1_fractions = fraction_quality_above_threshold(r1_filename)\n",
    "r2_fractions = fraction_quality_above_threshold(r2_filename)\n",
    "\n",
    "# Compute count of reads with k high-quality bases\n",
    "r1_base_counts = count_reads_with_k_bases_above_threshold(r1_filename)\n",
    "r2_base_counts = count_reads_with_k_bases_above_threshold(r2_filename)\n",
    "\n",
    "# Plot 1: Fraction of reads with quality score >= 30 at each position\n",
    "plt.figure(figsize=(10, 5))\n",
    "plt.plot(r1_fractions, color='blue', label='R1')\n",
    "plt.plot(r2_fractions, color='orange', label='R2')\n",
    "plt.xlabel('Position in the read')\n",
    "plt.ylabel('Fraction of reads with quality score >= 30')\n",
    "plt.title('Fraction of reads with high quality scores by position')\n",
    "plt.legend()\n",
    "plt.show()\n",
    "\n",
    "# Plot 2: Count of reads with exactly k high-quality bases\n",
    "plt.figure(figsize=(10, 5))\n",
    "plt.plot(r1_base_counts, color='blue', label='R1')\n",
    "plt.plot(r2_base_counts, color='orange', label='R2')\n",
    "plt.xlabel('Number of high-quality bases (>=30)')\n",
    "plt.ylabel('Number of reads')\n",
    "plt.title('Distribution of high-quality bases per read')\n",
    "plt.legend()\n",
    "plt.show()"
   ]
  },
  {
   "cell_type": "markdown",
   "id": "7f3d9b5b",
   "metadata": {},
   "source": [
    "(a) What can you say about how sequence quality appears to depend on read position (position 1 to 250)?"
   ]
  },
  {
   "cell_type": "markdown",
   "id": "e0c3f358",
   "metadata": {},
   "source": [
    "(b) What can you say about how sequence quality appears to depend on read number (read #1 or read #2)?"
   ]
  },
  {
   "cell_type": "markdown",
   "id": "4b1f3e19",
   "metadata": {},
   "source": [
    "(c) On slide 23 of our first lecture (“Introduction and Next Generation Sequencing”) there was a link to a video about how Illumina sequencing works. Do your answers to (a) and (b) agree with the process described in this video?)"
   ]
  }
 ],
 "metadata": {
  "kernelspec": {
   "display_name": "Python 3 (ipykernel)",
   "language": "python",
   "name": "python3"
  },
  "language_info": {
   "codemirror_mode": {
    "name": "ipython",
    "version": 3
   },
   "file_extension": ".py",
   "mimetype": "text/x-python",
   "name": "python",
   "nbconvert_exporter": "python",
   "pygments_lexer": "ipython3",
   "version": "3.9.19"
  }
 },
 "nbformat": 4,
 "nbformat_minor": 5
}
