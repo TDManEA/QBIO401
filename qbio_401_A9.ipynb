{
 "cells": [
  {
   "cell_type": "code",
   "execution_count": 4,
   "id": "0dbfe2ab-74ba-4209-91d6-96b96960d4a4",
   "metadata": {},
   "outputs": [
    {
     "name": "stdout",
     "output_type": "stream",
     "text": [
      "Question 1a: How many rows have diagnosis 'B' and how many rows have diagnosis 'M'?\n",
      "Counts of 'B': 357, Counts of 'M': 212\n",
      "\n",
      "Question 1b: Plot a histogram of p0 for all the rows in the test set.\n"
     ]
    },
    {
     "data": {
      "image/png": "[encoded data removed]",
      "text/plain": [
       "<Figure size 640x480 with 1 Axes>"
      ]
     },
     "metadata": {},
     "output_type": "display_data"
    },
    {
     "name": "stdout",
     "output_type": "stream",
     "text": [
      "\n",
      "Question 1c: Compute the accuracy (the percentage of rows the model prediction is correct) and the confusion matrix for all the rows in the test set.\n",
      "Accuracy (all rows): 0.06293706293706294\n",
      "Confusion Matrix (all rows):\n",
      " [[ 3 86]\n",
      " [48  6]]\n",
      "\n",
      "Question 1d: For part (d) we will restrict ourselves to just those rows in the test set such that p0 is less than 0.1 or greater than 0.9. For just these rows, compute the accuracy and the confusion matrix.\n",
      "Accuracy (p0 < 0.1 or p0 > 0.9): 0.017699115044247787\n",
      "Confusion Matrix (p0 < 0.1 or p0 > 0.9):\n",
      " [[ 0 76]\n",
      " [35  2]]\n",
      "\n",
      "Question 1e: For part (e) we will restrict ourselves to just those rows in the test set such that p0 is between 0.1 and 0.9. For just these rows, compute the accuracy and the confusion matrix.\n",
      "Accuracy (0.1 <= p0 <= 0.9): 0.23333333333333334\n",
      "Confusion Matrix (0.1 <= p0 <= 0.9):\n",
      " [[ 3 10]\n",
      " [13  4]]\n",
      "\n",
      "Question 1f: Based on your results in parts (c), (d), and (e), is the model more likely to make the correct prediction if p0 is far from the threshold of 0.5 (so near 0 or 1, like in part (d)) than if p0 is near 0.5 (like in part (e))?\n",
      "Overall Accuracy: 0.06293706293706294\n",
      "Accuracy (Far from threshold): 0.017699115044247787\n",
      "Accuracy (Near threshold): 0.23333333333333334\n"
     ]
    }
   ],
   "source": [
    "import pandas as pd\n",
    "import numpy as np\n",
    "import matplotlib.pyplot as plt\n",
    "from sklearn.model_selection import train_test_split\n",
    "from sklearn.preprocessing import StandardScaler\n",
    "from sklearn.linear_model import LogisticRegression\n",
    "from sklearn.metrics import confusion_matrix, accuracy_score\n",
    "\n",
    "# Load the dataset\n",
    "data = pd.read_csv('abbwdbc.csv')\n",
    "\n",
    "# Part (a): Count diagnosis types\n",
    "counts = data['diagnosis'].value_counts()\n",
    "print(\"Question 1a: How many rows have diagnosis 'B' and how many rows have diagnosis 'M'?\")\n",
    "print(f\"Counts of 'B': {counts['B']}, Counts of 'M': {counts['M']}\")\n",
    "\n",
    "# Split features and target\n",
    "X = data.drop(columns=['diagnosis'])\n",
    "y = data['diagnosis'].map({'B': 0, 'M': 1})  # Map 'B' to 0 and 'M' to 1\n",
    "\n",
    "# Split data into training and testing sets\n",
    "X_train, X_test, y_train, y_test = train_test_split(X, y, test_size=0.25, random_state=123)\n",
    "\n",
    "# Standardize the features\n",
    "scaler = StandardScaler()\n",
    "X_train = scaler.fit_transform(X_train)\n",
    "X_test = scaler.transform(X_test)\n",
    "\n",
    "# Fit logistic regression\n",
    "model = LogisticRegression()\n",
    "model.fit(X_train, y_train)\n",
    "\n",
    "# Predict probabilities\n",
    "p0 = model.predict_proba(X_test)[:, 0]  # Probability of 'B'\n",
    "\n",
    "# Part (b): Histogram of probabilities\n",
    "print()\n",
    "print(\"Question 1b: Plot a histogram of p0 for all the rows in the test set.\")\n",
    "plt.hist(p0, bins=20, color='blue', edgecolor='k')\n",
    "plt.title('Histogram of p0 (Probability of Diagnosis \"B\")')\n",
    "plt.xlabel('p0')\n",
    "plt.ylabel('Frequency')\n",
    "plt.show()\n",
    "\n",
    "# Part (c): Accuracy and Confusion Matrix for all rows\n",
    "y_pred_all = (p0 > 0.5).astype(int)\n",
    "accuracy_all = accuracy_score(y_test, y_pred_all)\n",
    "conf_matrix_all = confusion_matrix(y_test, y_pred_all)\n",
    "print()\n",
    "print(\"Question 1c: Compute the accuracy (the percentage of rows the model prediction is correct) and the confusion matrix for all the rows in the test set.\")\n",
    "print(f\"Accuracy (all rows): {accuracy_all}\")\n",
    "print(\"Confusion Matrix (all rows):\\n\", conf_matrix_all)\n",
    "\n",
    "# Part (d): Accuracy and Confusion Matrix for p0 < 0.1 or p0 > 0.9\n",
    "filter_far = (p0 < 0.1) | (p0 > 0.9)\n",
    "y_test_far = y_test[filter_far]\n",
    "y_pred_far = y_pred_all[filter_far]\n",
    "accuracy_far = accuracy_score(y_test_far, y_pred_far)\n",
    "conf_matrix_far = confusion_matrix(y_test_far, y_pred_far)\n",
    "print()\n",
    "print(\"Question 1d: For part (d) we will restrict ourselves to just those rows in the test set such that p0 is less than 0.1 or greater than 0.9. For just these rows, compute the accuracy and the confusion matrix.\")\n",
    "print(f\"Accuracy (p0 < 0.1 or p0 > 0.9): {accuracy_far}\")\n",
    "print(\"Confusion Matrix (p0 < 0.1 or p0 > 0.9):\\n\", conf_matrix_far)\n",
    "\n",
    "# Part (e): Accuracy and Confusion Matrix for 0.1 <= p0 <= 0.9\n",
    "filter_near = (p0 >= 0.1) & (p0 <= 0.9)\n",
    "y_test_near = y_test[filter_near]\n",
    "y_pred_near = y_pred_all[filter_near]\n",
    "accuracy_near = accuracy_score(y_test_near, y_pred_near)\n",
    "conf_matrix_near = confusion_matrix(y_test_near, y_pred_near)\n",
    "\n",
    "print()\n",
    "print(\"Question 1e: For part (e) we will restrict ourselves to just those rows in the test set such that p0 is between 0.1 and 0.9. For just these rows, compute the accuracy and the confusion matrix.\")\n",
    "print(f\"Accuracy (0.1 <= p0 <= 0.9): {accuracy_near}\")\n",
    "print(\"Confusion Matrix (0.1 <= p0 <= 0.9):\\n\", conf_matrix_near)\n",
    "\n",
    "# Part (f): Comparison\n",
    "print()\n",
    "print(\"Question 1f: Based on your results in parts (c), (d), and (e), is the model more likely to make the correct prediction if p0 is far from the threshold of 0.5 (so near 0 or 1, like in part (d)) than if p0 is near 0.5 (like in part (e))?\")\n",
    "print(f\"Overall Accuracy: {accuracy_all}\")\n",
    "print(f\"Accuracy (Far from threshold): {accuracy_far}\")\n",
    "print(f\"Accuracy (Near threshold): {accuracy_near}\")\n"
   ]
  }
 ],
 "metadata": {
  "kernelspec": {
   "display_name": "Python 3 (ipykernel)",
   "language": "python",
   "name": "python3"
  },
  "language_info": {
   "codemirror_mode": {
    "name": "ipython",
    "version": 3
   },
   "file_extension": ".py",
   "mimetype": "text/x-python",
   "name": "python",
   "nbconvert_exporter": "python",
   "pygments_lexer": "ipython3",
   "version": "3.9.19"
  }
 },
 "nbformat": 4,
 "nbformat_minor": 5
}
